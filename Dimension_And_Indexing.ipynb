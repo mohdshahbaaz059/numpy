{
  "nbformat": 4,
  "nbformat_minor": 0,
  "metadata": {
    "colab": {
      "provenance": [],
      "authorship_tag": "ABX9TyNvvRw+aDifKhYT+hdYLXvC",
      "include_colab_link": true
    },
    "kernelspec": {
      "name": "python3",
      "display_name": "Python 3"
    },
    "language_info": {
      "name": "python"
    }
  },
  "cells": [
    {
      "cell_type": "markdown",
      "metadata": {
        "id": "view-in-github",
        "colab_type": "text"
      },
      "source": [
        "<a href=\"https://colab.research.google.com/github/mohdshahbaaz059/numpy/blob/main/Dimension_And_Indexing.ipynb\" target=\"_parent\"><img src=\"https://colab.research.google.com/assets/colab-badge.svg\" alt=\"Open In Colab\"/></a>"
      ]
    },
    {
      "cell_type": "markdown",
      "source": [
        "***dimension method***"
      ],
      "metadata": {
        "id": "yNctlQh5_eSd"
      }
    },
    {
      "cell_type": "code",
      "execution_count": null,
      "metadata": {
        "id": "_d5h-7tP65jd"
      },
      "outputs": [],
      "source": [
        "import numpy as  np"
      ]
    },
    {
      "cell_type": "code",
      "source": [
        "arr = np.array((1,2,3,4,5))\n",
        "print(arr)"
      ],
      "metadata": {
        "colab": {
          "base_uri": "https://localhost:8080/"
        },
        "id": "lP2WYKsj7wGh",
        "outputId": "fabc051c-e84e-47c0-c8dc-c24e9eeba4a1"
      },
      "execution_count": null,
      "outputs": [
        {
          "output_type": "stream",
          "name": "stdout",
          "text": [
            "[1 2 3 4 5]\n"
          ]
        }
      ]
    },
    {
      "cell_type": "markdown",
      "source": [
        "***o-dimension***"
      ],
      "metadata": {
        "id": "E830sR5y-Wn9"
      }
    },
    {
      "cell_type": "code",
      "source": [
        "import numpy as np\n",
        "\n",
        "arr = np.array(45)\n",
        "\n",
        "print(arr)"
      ],
      "metadata": {
        "id": "WM3M-dTo78uT",
        "colab": {
          "base_uri": "https://localhost:8080/"
        },
        "outputId": "df53be59-f292-4168-e615-f7a19ba3a305"
      },
      "execution_count": 7,
      "outputs": [
        {
          "output_type": "stream",
          "name": "stdout",
          "text": [
            "45\n"
          ]
        }
      ]
    },
    {
      "cell_type": "markdown",
      "source": [
        "***1-dimension***\n"
      ],
      "metadata": {
        "id": "FJSJAg3S-eWF"
      }
    },
    {
      "cell_type": "code",
      "source": [
        "import numpy as np\n",
        "\n",
        "arr = np.array([1,2,3,4,5])\n",
        "\n",
        "print(arr)"
      ],
      "metadata": {
        "colab": {
          "base_uri": "https://localhost:8080/"
        },
        "id": "RMD4Zo_t-gPe",
        "outputId": "cb124fc1-6c18-49fb-f7f4-f83757877a34"
      },
      "execution_count": 9,
      "outputs": [
        {
          "output_type": "stream",
          "name": "stdout",
          "text": [
            "[1 2 3 4 5]\n"
          ]
        }
      ]
    },
    {
      "cell_type": "markdown",
      "source": [
        "***2-dimension***\n"
      ],
      "metadata": {
        "id": "P1dN6qk6_Awz"
      }
    },
    {
      "cell_type": "code",
      "source": [
        "import numpy as np\n",
        "\n",
        "arr = np.array([1,2,3,4,5]),([6,7,8,9,10])\n",
        "\n",
        "print(arr)"
      ],
      "metadata": {
        "colab": {
          "base_uri": "https://localhost:8080/"
        },
        "id": "iqexRQeg_DQS",
        "outputId": "ef6125be-8898-4653-d7ea-63a05b3491bf"
      },
      "execution_count": 10,
      "outputs": [
        {
          "output_type": "stream",
          "name": "stdout",
          "text": [
            "(array([1, 2, 3, 4, 5]), [6, 7, 8, 9, 10])\n"
          ]
        }
      ]
    },
    {
      "cell_type": "code",
      "source": [],
      "metadata": {
        "id": "3uPk_RF2HlRb"
      },
      "execution_count": null,
      "outputs": []
    },
    {
      "cell_type": "markdown",
      "source": [
        "***3-dimension***"
      ],
      "metadata": {
        "id": "jxVLGrJlAKcP"
      }
    },
    {
      "cell_type": "code",
      "source": [
        "import numpy as np\n",
        "\n",
        "arr = np.array([1,2,3]),([4,5,6]),([7,8,9])\n",
        "\n",
        "print(arr)"
      ],
      "metadata": {
        "colab": {
          "base_uri": "https://localhost:8080/"
        },
        "id": "zjRPqdbg_lGi",
        "outputId": "bd484ec8-8a22-4e30-ed4e-c56628cc1849"
      },
      "execution_count": 12,
      "outputs": [
        {
          "output_type": "stream",
          "name": "stdout",
          "text": [
            "(array([1, 2, 3]), [4, 5, 6], [7, 8, 9])\n"
          ]
        }
      ]
    },
    {
      "cell_type": "markdown",
      "source": [
        "***N-dimension***"
      ],
      "metadata": {
        "id": "jI6ZEIBQCsN3"
      }
    },
    {
      "cell_type": "code",
      "source": [
        "import numpy as np\n",
        "\n",
        "a = np.array(10)\n",
        "b = np.array([1,2,3])\n",
        "d = np.array([[1,2,3],[4,5,6]])\n",
        "e = np.array([[[1,2,3],[4,5,6]],[[1,2,3],[4,5,6]]])\n",
        "\n",
        "print(a.ndim)\n",
        "print(b.ndim)\n",
        "print(d.ndim)\n",
        "print(e.ndim)"
      ],
      "metadata": {
        "colab": {
          "base_uri": "https://localhost:8080/"
        },
        "id": "5fJJg3oJAGOH",
        "outputId": "1aaa0bfd-5355-440b-ceb4-a577d24cefe5"
      },
      "execution_count": 18,
      "outputs": [
        {
          "output_type": "stream",
          "name": "stdout",
          "text": [
            "0\n",
            "1\n",
            "2\n",
            "3\n"
          ]
        }
      ]
    },
    {
      "cell_type": "markdown",
      "source": [
        "***Higher Dimension  array***\n",
        "\n"
      ],
      "metadata": {
        "id": "IshJLyIUC0Ps"
      }
    },
    {
      "cell_type": "code",
      "source": [
        "import numpy as np\n",
        "\n",
        "arr = np.array([1,2,3,4],ndmin=5)\n",
        "\n",
        "print(arr)\n",
        "print('number of dimension:',arr.ndim)"
      ],
      "metadata": {
        "colab": {
          "base_uri": "https://localhost:8080/"
        },
        "id": "kQelNZdAC7xm",
        "outputId": "eb9d313b-559d-4db2-d2ca-44ccfe52e43b"
      },
      "execution_count": 21,
      "outputs": [
        {
          "output_type": "stream",
          "name": "stdout",
          "text": [
            "[[[[[1 2 3 4]]]]]\n",
            "number of dimension: 5\n"
          ]
        }
      ]
    },
    {
      "cell_type": "markdown",
      "source": [
        "***numpy array indexing***\n",
        "\n"
      ],
      "metadata": {
        "id": "3RzuxlHxH2ak"
      }
    },
    {
      "cell_type": "code",
      "source": [
        "import numpy as np\n",
        "\n",
        "arr = np.array([1,2,3,4])\n",
        "\n",
        "print(arr[0])"
      ],
      "metadata": {
        "colab": {
          "base_uri": "https://localhost:8080/"
        },
        "id": "_TZV8Ym3IFXY",
        "outputId": "394378ca-1aa2-43db-e904-335924c27cef"
      },
      "execution_count": 24,
      "outputs": [
        {
          "output_type": "stream",
          "name": "stdout",
          "text": [
            "1\n"
          ]
        }
      ]
    },
    {
      "cell_type": "markdown",
      "source": [
        "***2-element***\n"
      ],
      "metadata": {
        "id": "YKoVoHqPIs8t"
      }
    },
    {
      "cell_type": "code",
      "source": [
        "import numpy as np\n",
        "\n",
        "arr = np.array([1,2,3,4])\n",
        "\n",
        "print(arr[1])"
      ],
      "metadata": {
        "colab": {
          "base_uri": "https://localhost:8080/"
        },
        "id": "pRupCU3uI-tz",
        "outputId": "f826137e-9d5e-4172-b714-a950c058f2fb"
      },
      "execution_count": 29,
      "outputs": [
        {
          "output_type": "stream",
          "name": "stdout",
          "text": [
            "2\n"
          ]
        }
      ]
    },
    {
      "cell_type": "markdown",
      "source": [
        "***Adding both element***"
      ],
      "metadata": {
        "id": "OO_GYJcUMUuP"
      }
    },
    {
      "cell_type": "code",
      "source": [
        "import numpy as np\n",
        "\n",
        "arr = np.array([1,2,3,4])\n",
        "\n",
        "print(arr[2] + arr[3])"
      ],
      "metadata": {
        "colab": {
          "base_uri": "https://localhost:8080/"
        },
        "id": "2iizJx9jH-FK",
        "outputId": "f0e66da4-f761-4ca6-d662-37938ba2966a"
      },
      "execution_count": 28,
      "outputs": [
        {
          "output_type": "stream",
          "name": "stdout",
          "text": [
            "7\n"
          ]
        }
      ]
    },
    {
      "cell_type": "code",
      "source": [],
      "metadata": {
        "id": "iVrzP0vCHqBz"
      },
      "execution_count": null,
      "outputs": []
    }
  ]
}